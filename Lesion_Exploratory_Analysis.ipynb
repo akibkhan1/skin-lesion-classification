{
  "nbformat": 4,
  "nbformat_minor": 0,
  "metadata": {
    "colab": {
      "name": "Lesion-Exploratory-Analysis.ipynb",
      "provenance": [],
      "authorship_tag": "ABX9TyNcgdN5m0oX5Dfqe9sd0etH",
      "include_colab_link": true
    },
    "kernelspec": {
      "name": "python3",
      "display_name": "Python 3"
    },
    "language_info": {
      "name": "python"
    },
    "accelerator": "GPU"
  },
  "cells": [
    {
      "cell_type": "markdown",
      "metadata": {
        "id": "view-in-github",
        "colab_type": "text"
      },
      "source": [
        "<a href=\"https://colab.research.google.com/github/akibkhan1/skin-lesion-classification/blob/main/Lesion_Exploratory_Analysis.ipynb\" target=\"_parent\"><img src=\"https://colab.research.google.com/assets/colab-badge.svg\" alt=\"Open In Colab\"/></a>"
      ]
    },
    {
      "cell_type": "markdown",
      "metadata": {
        "id": "gv1DoealQR2z"
      },
      "source": [
        "Import libraries"
      ]
    },
    {
      "cell_type": "code",
      "metadata": {
        "id": "FFSQKfcY_9dw"
      },
      "source": [
        "import numpy as np\n",
        "import os\n",
        "import pandas as pd\n",
        "import matplotlib.pyplot as plt\n",
        "import cv2\n",
        "from IPython.display import clear_output\n",
        "from google.colab.patches import cv2_imshow\n",
        "import seaborn as sns"
      ],
      "execution_count": null,
      "outputs": []
    },
    {
      "cell_type": "markdown",
      "metadata": {
        "id": "avIKC46tQaiB"
      },
      "source": [
        "Download dataset and labels"
      ]
    },
    {
      "cell_type": "code",
      "metadata": {
        "id": "V3bBxVnOOnqe"
      },
      "source": [
        "!gdown --id 1YkYnPgkRLDIQAbrnP81z8S1rDtEBEguj\n",
        "\n",
        "!unzip lesion-full.zip; rm lesion-full.zip;\n",
        "clear_output()"
      ],
      "execution_count": null,
      "outputs": []
    },
    {
      "cell_type": "code",
      "metadata": {
        "colab": {
          "base_uri": "https://localhost:8080/"
        },
        "id": "80ySmon7APIg",
        "outputId": "e4a66ff8-7930-4287-bd75-d0605f0eff19"
      },
      "source": [
        "!gdown --id 1IJW5WfPmBS8G5Nt3EF-VlPwd2yQgxZ_W\n",
        "\n",
        "!gdown --id 1XrieFe-vJFfcg1-NGUrtvz63QTiukiTi"
      ],
      "execution_count": null,
      "outputs": [
        {
          "output_type": "stream",
          "text": [
            "Downloading...\n",
            "From: https://drive.google.com/uc?id=1XrieFe-vJFfcg1-NGUrtvz63QTiukiTi\n",
            "To: /content/path_label.csv\n",
            "\r  0% 0.00/56.9k [00:00<?, ?B/s]\r100% 56.9k/56.9k [00:00<00:00, 3.81MB/s]\n"
          ],
          "name": "stdout"
        }
      ]
    },
    {
      "cell_type": "markdown",
      "metadata": {
        "id": "1bUBTFq7RJp5"
      },
      "source": [
        "Exploring class frequency"
      ]
    },
    {
      "cell_type": "code",
      "metadata": {
        "colab": {
          "base_uri": "https://localhost:8080/",
          "height": 204
        },
        "id": "MvFvNM6SAUAJ",
        "outputId": "ff3d0a3f-cf5e-4397-fd8f-84f7eaabd8a0"
      },
      "source": [
        "metadata=pd.read_csv('path_label.csv')\n",
        "\n",
        "metadata.head()"
      ],
      "execution_count": null,
      "outputs": [
        {
          "output_type": "execute_result",
          "data": {
            "text/html": [
              "<div>\n",
              "<style scoped>\n",
              "    .dataframe tbody tr th:only-of-type {\n",
              "        vertical-align: middle;\n",
              "    }\n",
              "\n",
              "    .dataframe tbody tr th {\n",
              "        vertical-align: top;\n",
              "    }\n",
              "\n",
              "    .dataframe thead th {\n",
              "        text-align: right;\n",
              "    }\n",
              "</style>\n",
              "<table border=\"1\" class=\"dataframe\">\n",
              "  <thead>\n",
              "    <tr style=\"text-align: right;\">\n",
              "      <th></th>\n",
              "      <th>img_id</th>\n",
              "      <th>diagnostic</th>\n",
              "    </tr>\n",
              "  </thead>\n",
              "  <tbody>\n",
              "    <tr>\n",
              "      <th>0</th>\n",
              "      <td>PAT_1516_1765_530.png</td>\n",
              "      <td>NEV</td>\n",
              "    </tr>\n",
              "    <tr>\n",
              "      <th>1</th>\n",
              "      <td>PAT_46_881_939.png</td>\n",
              "      <td>BCC</td>\n",
              "    </tr>\n",
              "    <tr>\n",
              "      <th>2</th>\n",
              "      <td>PAT_1545_1867_547.png</td>\n",
              "      <td>ACK</td>\n",
              "    </tr>\n",
              "    <tr>\n",
              "      <th>3</th>\n",
              "      <td>PAT_1989_4061_934.png</td>\n",
              "      <td>ACK</td>\n",
              "    </tr>\n",
              "    <tr>\n",
              "      <th>4</th>\n",
              "      <td>PAT_684_1302_588.png</td>\n",
              "      <td>BCC</td>\n",
              "    </tr>\n",
              "  </tbody>\n",
              "</table>\n",
              "</div>"
            ],
            "text/plain": [
              "                  img_id diagnostic\n",
              "0  PAT_1516_1765_530.png        NEV\n",
              "1     PAT_46_881_939.png        BCC\n",
              "2  PAT_1545_1867_547.png        ACK\n",
              "3  PAT_1989_4061_934.png        ACK\n",
              "4   PAT_684_1302_588.png        BCC"
            ]
          },
          "metadata": {
            "tags": []
          },
          "execution_count": 11
        }
      ]
    },
    {
      "cell_type": "code",
      "metadata": {
        "colab": {
          "base_uri": "https://localhost:8080/",
          "height": 276
        },
        "id": "4J6Hoet0AkT4",
        "outputId": "35f2f9fa-3fb3-4c58-bf94-bb035c29e98e"
      },
      "source": [
        "class_labels= metadata['diagnostic'].value_counts()\n",
        "plt.xticks(rotation=90)\n",
        "plt.bar(x=class_labels.keys(),height= class_labels);"
      ],
      "execution_count": null,
      "outputs": [
        {
          "output_type": "display_data",
          "data": {
            "image/png": "[encoded data removed]",
            "text/plain": [
              "<Figure size 432x288 with 1 Axes>"
            ]
          },
          "metadata": {
            "tags": [],
            "needs_background": "light"
          }
        }
      ]
    },
    {
      "cell_type": "code",
      "metadata": {
        "id": "M9sncoIvDRAw"
      },
      "source": [
        "metadata.info()"
      ],
      "execution_count": null,
      "outputs": []
    },
    {
      "cell_type": "code",
      "metadata": {
        "id": "fEZCRop4VY4s"
      },
      "source": [
        "img = cv2.imread('/content/lesion-full/PAT_1019_110_194.png')\n",
        "cv2_imshow(img)"
      ],
      "execution_count": null,
      "outputs": []
    },
    {
      "cell_type": "code",
      "metadata": {
        "colab": {
          "base_uri": "https://localhost:8080/",
          "height": 265
        },
        "id": "YF_EGOHkVcdy",
        "outputId": "0c206e92-a4ef-4217-97f4-95de2b48d5ba"
      },
      "source": [
        "histr = cv2.calcHist([img],[0],None,[256],[0,256])\n",
        "  \n",
        "# show the plotting graph of an image\n",
        "plt.plot(histr)\n",
        "plt.show()"
      ],
      "execution_count": null,
      "outputs": [
        {
          "output_type": "display_data",
          "data": {
            "image/png": "[encoded data removed]",
            "text/plain": [
              "<Figure size 432x288 with 1 Axes>"
            ]
          },
          "metadata": {
            "tags": [],
            "needs_background": "light"
          }
        }
      ]
    },
    {
      "cell_type": "code",
      "metadata": {
        "id": "IaajzDzbWKnP"
      },
      "source": [
        ""
      ],
      "execution_count": null,
      "outputs": []
    }
  ]
}