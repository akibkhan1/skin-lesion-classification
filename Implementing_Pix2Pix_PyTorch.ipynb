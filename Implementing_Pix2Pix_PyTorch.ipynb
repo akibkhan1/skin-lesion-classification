{
  "nbformat": 4,
  "nbformat_minor": 0,
  "metadata": {
    "colab": {
      "name": "Implementing_Pix2Pix_PyTorch.ipynb",
      "provenance": [],
      "collapsed_sections": [],
      "authorship_tag": "ABX9TyM4I4/dfpvtNlZPJ9PC7pEK",
      "include_colab_link": true
    },
    "kernelspec": {
      "name": "python3",
      "display_name": "Python 3"
    },
    "language_info": {
      "name": "python"
    }
  },
  "cells": [
    {
      "cell_type": "markdown",
      "metadata": {
        "id": "view-in-github",
        "colab_type": "text"
      },
      "source": [
        "<a href=\"https://colab.research.google.com/github/akibkhan1/skin-lesion-classification/blob/main/Implementing_Pix2Pix_PyTorch.ipynb\" target=\"_parent\"><img src=\"https://colab.research.google.com/assets/colab-badge.svg\" alt=\"Open In Colab\"/></a>"
      ]
    },
    {
      "cell_type": "code",
      "metadata": {
        "id": "jGNyiiiw3j5R"
      },
      "source": [
        "import torch\n",
        "import torch.nn as nn"
      ],
      "execution_count": null,
      "outputs": []
    },
    {
      "cell_type": "markdown",
      "metadata": {
        "id": "qsa-PSuI33x_"
      },
      "source": [
        "### Building Discriminator"
      ]
    },
    {
      "cell_type": "code",
      "metadata": {
        "id": "kKkkKnRb32zT"
      },
      "source": [
        "class disc_block(nn.Module):\n",
        "  def __init__(self, in_channels, out_channels, stride=2):\n",
        "    super().__init__()\n",
        "    self.conv = nn.Sequential(\n",
        "        nn.Conv2d(in_channels, out_channels, kernel_size=4, stride=stride, bias=False, padding_mode=\"reflect\"),\n",
        "        nn.BatchNorm2d(out_channels),\n",
        "        nn.LeakyReLU(0.2)\n",
        "    )\n",
        "\n",
        "  def forward(self, x):\n",
        "    return self.conv(x)\n",
        "\n",
        "class discriminator(nn.Module):\n",
        "  def __init__(self, in_channels=3, channels=[64, 128, 256, 512]):  # takes 256*256*3 input image down to 33*33*512\n",
        "    super().__init__()\n",
        "\n",
        "    # the initial block is different from the general sequential blocks. it doesn't contain BatchNorm\n",
        "\n",
        "    self.initial_block = nn.Sequential(\n",
        "        nn.Conv2d(in_channels*2, channels[0], kernel_size=4, stride=2, padding=1, padding_mode=\"reflect\"),\n",
        "        nn.LeakyReLU(0.2)\n",
        "    )\n",
        "\n",
        "    # creating the subsequent blocks after the initial block\n",
        "\n",
        "    blocks = []\n",
        "    in_channels = channels[0]\n",
        "\n",
        "    for channel in channels[1:]:\n",
        "      blocks.append(\n",
        "          disc_block(in_channels, channel, stride=1 if channel == channels[-1] else 2)  # in the last 512 convolution, authors used a stride of 1\n",
        "      )\n",
        "      in_channels = channel\n",
        "\n",
        "    blocks.append(\n",
        "        nn.Conv2d(in_channels, 1, kernel_size=4, stride=1, padding=1, padding_mode=\"reflect\")\n",
        "    )\n",
        "\n",
        "    self.model = nn.Sequential(*blocks)\n",
        "\n",
        "  def forward(self, x, y):\n",
        "    x = torch.cat([x, y], dim=1)\n",
        "    x = self.initial_block(x)\n",
        "    return self.model(x)"
      ],
      "execution_count": null,
      "outputs": []
    },
    {
      "cell_type": "markdown",
      "metadata": {
        "id": "RRdkxy0vBFtC"
      },
      "source": [
        "### Unit Test"
      ]
    },
    {
      "cell_type": "code",
      "metadata": {
        "id": "okb1iqO_BLfz"
      },
      "source": [
        "def test():\n",
        "  x = torch.rand((1, 3, 256, 256))\n",
        "  y = torch.rand((1, 3, 256, 256))\n",
        "  model = discriminator()\n",
        "  preds = model(x, y)\n",
        "  print(preds.shape)"
      ],
      "execution_count": null,
      "outputs": []
    },
    {
      "cell_type": "code",
      "metadata": {
        "colab": {
          "base_uri": "https://localhost:8080/"
        },
        "id": "XszZU5HsCCsQ",
        "outputId": "6ccee3cc-f26e-4878-d05b-8b015edfe885"
      },
      "source": [
        "test()"
      ],
      "execution_count": null,
      "outputs": [
        {
          "output_type": "stream",
          "text": [
            "torch.Size([1, 1, 26, 26])\n"
          ],
          "name": "stdout"
        }
      ]
    },
    {
      "cell_type": "markdown",
      "metadata": {
        "id": "bFwPpn9ur3IO"
      },
      "source": [
        "### Building Generator"
      ]
    },
    {
      "cell_type": "code",
      "metadata": {
        "id": "w4DEZ77Pr0_s"
      },
      "source": [
        "class gen_block(nn.Module):\n",
        "  def __init__(self, in_channels, out_channels, contracting_path=True, activation=\"relu\", use_dropout=False):\n",
        "    super().__init__()\n",
        "    self.conv = nn.Sequential(\n",
        "      nn.Conv2d(in_channels, out_channels, kernel_size=4, stride=2, padding=1, bias=False, padding_mode='reflect') if contracting_path\n",
        "      else nn.ConvTranspose2d(in_channels, out_channels, kernel_size=4, stride=2, padding=1),\n",
        "      nn.BatchNorm2d(out_channels),\n",
        "      nn.ReLU() if activation == \"relu\"\n",
        "      else nn.LeakyReLU(0.2)\n",
        "    )\n",
        "    self.use_dropout = use_dropout\n",
        "    self.dropout = nn.Dropout(0.5)\n",
        "\n",
        "  def forward(self, x):\n",
        "    x = self.conv(x)\n",
        "    return self.dropout(x) if self.use_dropout else x\n",
        "\n",
        "class generator(nn.Module):\n",
        "  def __init__(self, in_channels=3, channels=64):\n",
        "    super().__init__()\n",
        "\n",
        "    # the initial block is different from the general sequential blocks. it doesn't contain BatchNorm\n",
        "\n",
        "    self.initial_block = nn.Sequential(\n",
        "        nn.Conv2d(in_channels, channels, kernel_size=4, stride=2, padding=1, padding_mode=\"reflect\"),\n",
        "        nn.LeakyReLU(0.2)\n",
        "    ) # 128\n",
        "\n",
        "    # creating the subsequent blocks after the initial block\n",
        "\n",
        "    self.down1 = gen_block(channels, channels*2, contracting_path=True, activation=\"leaky_relu\")  # 64\n",
        "    self.down2 = gen_block(channels*2, channels*4, contracting_path=True, activation=\"leaky_relu\")  # 32\n",
        "    self.down3 = gen_block(channels*4, channels*8, contracting_path=True, activation=\"leaky_relu\")  # 16\n",
        "    self.down4 = gen_block(channels*8, channels*8, contracting_path=True, activation=\"leaky_relu\")  # 8\n",
        "    self.down5 = gen_block(channels*8, channels*8, contracting_path=True, activation=\"leaky_relu\")  # 4\n",
        "    self.down6 = gen_block(channels*8, channels*8, contracting_path=True, activation=\"leaky_relu\")  # 2\n",
        "\n",
        "    self.bottle_neck = nn.Sequential(\n",
        "        nn.Conv2d(channels*8, channels*8, kernel_size=4, stride=2, padding=1, padding_mode=\"reflect\"),\n",
        "        nn.ReLU()\n",
        "    ) # 1*1\n",
        "\n",
        "    self.up1 = gen_block(channels*8, channels*8, contracting_path=False, activation=\"relu\", use_dropout=True)\n",
        "    self.up2 = gen_block(channels*8*2, channels*8, contracting_path=False, activation=\"relu\", use_dropout=True)\n",
        "    self.up3 = gen_block(channels*8*2, channels*8, contracting_path=False, activation=\"relu\", use_dropout=True)\n",
        "    self.up4 = gen_block(channels*8*2, channels*8, contracting_path=False, activation=\"relu\", use_dropout=False)\n",
        "    self.up5 = gen_block(channels*8*2, channels*4, contracting_path=False, activation=\"relu\", use_dropout=False)\n",
        "    self.up6 = gen_block(channels*4*2, channels*2, contracting_path=False, activation=\"relu\", use_dropout=False)\n",
        "    self.up7 = gen_block(channels*2*2, channels, contracting_path=False, activation=\"relu\", use_dropout=False)\n",
        "    \n",
        "    self.final_block = nn.Sequential(\n",
        "        nn.ConvTranspose2d(channels*2, in_channels, kernel_size=4, stride=2, padding=1),\n",
        "        nn.Tanh()\n",
        "    )\n",
        "\n",
        "  def forward(self, x):\n",
        "    d1 = self.initial_block(x)\n",
        "    d2 = self.down1(d1)\n",
        "    d3 = self.down2(d2)\n",
        "    d4 = self.down3(d3)\n",
        "    d5 = self.down4(d4)\n",
        "    d6 = self.down5(d5)\n",
        "    d7 = self.down6(d6)\n",
        "\n",
        "    bottleneck = self.bottle_neck(d7)\n",
        "\n",
        "    u1 = self.up1(bottleneck)\n",
        "    u2 = self.up2(torch.cat([u1, d7], dim=1))\n",
        "    u3 = self.up3(torch.cat([u2, d6], dim=1))\n",
        "    u4 = self.up4(torch.cat([u3, d5], dim=1))\n",
        "    u5 = self.up5(torch.cat([u4, d4], dim=1))\n",
        "    u6 = self.up6(torch.cat([u5, d3], dim=1))\n",
        "    u7 = self.up7(torch.cat([u6, d2], dim=1))\n",
        "\n",
        "    return self.final_block(torch.cat([u7, d1], dim=1))"
      ],
      "execution_count": null,
      "outputs": []
    },
    {
      "cell_type": "markdown",
      "metadata": {
        "id": "-H2ZzLPIFX6k"
      },
      "source": [
        "### Unit Test"
      ]
    },
    {
      "cell_type": "code",
      "metadata": {
        "id": "hLnC_OE5FZKE"
      },
      "source": [
        "def test_generator():\n",
        "  x = torch.randn((1, 3, 256, 256))\n",
        "  model = generator(in_channels=3, channels=64)\n",
        "  preds = model(x)\n",
        "  print(preds.shape)"
      ],
      "execution_count": null,
      "outputs": []
    },
    {
      "cell_type": "code",
      "metadata": {
        "id": "gon_NDXmF4fP",
        "colab": {
          "base_uri": "https://localhost:8080/"
        },
        "outputId": "36ab33b4-d83e-4b3a-b512-9155b183edb9"
      },
      "source": [
        "test_generator()"
      ],
      "execution_count": null,
      "outputs": [
        {
          "output_type": "stream",
          "text": [
            "torch.Size([1, 3, 256, 256])\n"
          ],
          "name": "stdout"
        }
      ]
    },
    {
      "cell_type": "markdown",
      "metadata": {
        "id": "_GLblwDzQ95C"
      },
      "source": [
        "### Preparing Data"
      ]
    },
    {
      "cell_type": "code",
      "metadata": {
        "id": "n6o6yUTaRcr3"
      },
      "source": [
        "from PIL import Image\n",
        "import numpy as np\n",
        "import os\n",
        "from torch.utils.data import Dataset\n",
        "from torchvision.utils import save_image\n",
        "import torch.optim as optim\n",
        "from torch.utils.data import DataLoader\n",
        "from tqdm import tqdm"
      ],
      "execution_count": null,
      "outputs": []
    },
    {
      "cell_type": "code",
      "metadata": {
        "id": "OilS2zNAn--1"
      },
      "source": [
        "!pip install albumentations==0.4.6\n",
        "import albumentations \n",
        "from albumentations.pytorch import ToTensorV2"
      ],
      "execution_count": null,
      "outputs": []
    },
    {
      "cell_type": "code",
      "metadata": {
        "colab": {
          "base_uri": "https://localhost:8080/"
        },
        "id": "aBvSDzttPjeh",
        "outputId": "918132d2-6364-4eb1-ff1a-a1d37eeee414"
      },
      "source": [
        "!gdown --id 19BErvkVNU02jPVlbPtjlfNkm_dg7Y7-t"
      ],
      "execution_count": null,
      "outputs": [
        {
          "output_type": "stream",
          "text": [
            "Downloading...\n",
            "From: https://drive.google.com/uc?id=19BErvkVNU02jPVlbPtjlfNkm_dg7Y7-t\n",
            "To: /content/noaugmentation_512_384_dunet.zip\n",
            "126MB [00:00, 145MB/s]\n"
          ],
          "name": "stdout"
        }
      ]
    },
    {
      "cell_type": "code",
      "metadata": {
        "id": "FP9zfFBeRA0f"
      },
      "source": [
        "!unzip /content/noaugmentation_512_384_dunet.zip\n",
        "!rm /content/noaugmentation_512_384_dunet.zip"
      ],
      "execution_count": null,
      "outputs": []
    },
    {
      "cell_type": "code",
      "metadata": {
        "colab": {
          "base_uri": "https://localhost:8080/"
        },
        "id": "bFg_SbiIXSa3",
        "outputId": "c68ec447-7c04-4471-ec21-faf3f5bba654"
      },
      "source": [
        "image_dir = \"/content/new_data/valid/image/\"\n",
        "mask_dir = \"/content/new_data/valid/mask/\"\n",
        "\n",
        "images = os.listdir(image_dir)\n",
        "masks = os.listdir(mask_dir)\n",
        "print(len(images), len(masks))"
      ],
      "execution_count": null,
      "outputs": [
        {
          "output_type": "stream",
          "text": [
            "259 259\n"
          ],
          "name": "stdout"
        }
      ]
    },
    {
      "cell_type": "code",
      "metadata": {
        "id": "TyhVvbWvXn8U"
      },
      "source": [
        "for img_file in images:\n",
        "  image = Image.open(os.path.join(image_dir, img_file))\n",
        "  image = image.resize((256, 256))\n",
        "  image.save(os.path.join(image_dir, img_file))"
      ],
      "execution_count": null,
      "outputs": []
    },
    {
      "cell_type": "code",
      "metadata": {
        "id": "xWtmf1D_ZIGk"
      },
      "source": [
        "for mask_file in masks:\n",
        "  mask = Image.open(os.path.join(mask_dir, mask_file))\n",
        "  mask = mask.resize((256, 256))\n",
        "  mask.save(os.path.join(mask_dir, mask_file))"
      ],
      "execution_count": null,
      "outputs": []
    },
    {
      "cell_type": "code",
      "metadata": {
        "id": "x07oNE9QpkPS"
      },
      "source": [
        "both_transform = albumentations.Compose(\n",
        "    [albumentations.Resize(width=256, height=256),], additional_targets={\"image0\": \"image\"},\n",
        ")\n",
        "\n",
        "transform_only_input = albumentations.Compose(\n",
        "    [\n",
        "        albumentations.HorizontalFlip(p=0.5),\n",
        "        # albumentations.ColorJitter(p=0.2),\n",
        "        albumentations.Normalize(mean=[0.5, 0.5, 0.5], std=[0.5, 0.5, 0.5], max_pixel_value=255.0,),\n",
        "        ToTensorV2(),\n",
        "    ]\n",
        ")\n",
        "\n",
        "transform_only_mask = albumentations.Compose(\n",
        "    [\n",
        "        albumentations.Normalize(mean=[0.5, 0.5, 0.5], std=[0.5, 0.5, 0.5], max_pixel_value=255.0,),\n",
        "        ToTensorV2(),\n",
        "    ]\n",
        ")"
      ],
      "execution_count": null,
      "outputs": []
    },
    {
      "cell_type": "code",
      "metadata": {
        "id": "EAE_GxEyRUTi"
      },
      "source": [
        "class map_dataset(Dataset):\n",
        "  def __init__(self, root_dir):\n",
        "    self.root_dir = root_dir\n",
        "    self.image_list = os.listdir(os.path.join(self.root_dir, \"image/\"))\n",
        "    self.mask_list = os.listdir(os.path.join(self.root_dir, \"mask/\"))\n",
        "\n",
        "  def __len__(self):\n",
        "    return len(self.image_list)\n",
        "\n",
        "  def __getitem__(self, index):\n",
        "    image_file = self.image_list[index]\n",
        "    mask_file = self.mask_list[index]\n",
        "    img_path = os.path.join(self.root_dir, \"image/\")\n",
        "    image_path = os.path.join(img_path, image_file)\n",
        "    msk_path = os.path.join(self.root_dir, \"mask/\")\n",
        "    mask_path = os.path.join(msk_path, mask_file)\n",
        "    input_image = np.array(Image.open(image_path))\n",
        "    target_image = np.array(Image.open(mask_path))\n",
        "\n",
        "    augmentations = both_transform(image=input_image, image0=target_image)\n",
        "    input_image = augmentations[\"image\"]\n",
        "    target_image = augmentations[\"image0\"]\n",
        "\n",
        "    input_image = transform_only_input(image=input_image)[\"image\"]\n",
        "    target_image = transform_only_mask(image=target_image)[\"image\"]\n",
        "\n",
        "    return input_image, target_image"
      ],
      "execution_count": null,
      "outputs": []
    },
    {
      "cell_type": "markdown",
      "metadata": {
        "id": "JmhhtmFihOq4"
      },
      "source": [
        "### Utils"
      ]
    },
    {
      "cell_type": "code",
      "metadata": {
        "id": "L7oACqaedKl1"
      },
      "source": [
        "def save_some_examples(DEVICE, gen, val_loader, epoch, folder):\n",
        "    x, y = next(iter(val_loader))\n",
        "    x, y = x.to(DEVICE), y.to(DEVICE)\n",
        "    gen.eval()\n",
        "    with torch.no_grad():\n",
        "        y_fake = gen(x)\n",
        "        y_fake = y_fake * 0.5 + 0.5  # remove normalization#\n",
        "        save_image(y_fake, folder + f\"/y_gen_{epoch}.png\")\n",
        "        save_image(x * 0.5 + 0.5, folder + f\"/input_{epoch}.png\")\n",
        "        if epoch == 1:\n",
        "            save_image(y * 0.5 + 0.5, folder + f\"/label_{epoch}.png\")\n",
        "    gen.train()\n",
        "\n",
        "\n",
        "def save_checkpoint(model, optimizer, filename=\"/content/weights/my_checkpoint.pth.tar\"):\n",
        "    print(\"=> Saving checkpoint\")\n",
        "    checkpoint = {\n",
        "        \"state_dict\": model.state_dict(),\n",
        "        \"optimizer\": optimizer.state_dict(),\n",
        "    }\n",
        "    torch.save(checkpoint, filename)\n",
        "\n",
        "\n",
        "def load_checkpoint(checkpoint_file, model, optimizer, lr):\n",
        "    print(\"=> Loading checkpoint\")\n",
        "    checkpoint = torch.load(checkpoint_file, map_location=config.DEVICE)\n",
        "    model.load_state_dict(checkpoint[\"state_dict\"])\n",
        "    optimizer.load_state_dict(checkpoint[\"optimizer\"])\n",
        "\n",
        "    # If we don't do this then it will just have learning rate of old checkpoint\n",
        "    # and it will lead to many hours of debugging \\:\n",
        "    for param_group in optimizer.param_groups:\n",
        "        param_group[\"lr\"] = lr"
      ],
      "execution_count": null,
      "outputs": []
    },
    {
      "cell_type": "markdown",
      "metadata": {
        "id": "9_aSD3SuiX8Q"
      },
      "source": [
        "### Configs"
      ]
    },
    {
      "cell_type": "code",
      "metadata": {
        "id": "dmWE_UTIiZSa"
      },
      "source": [
        "DEVICE = \"cuda\" if torch.cuda.is_available() else \"cpu\"\n",
        "TRAIN_DIR = \"/content/new_data/valid/\"\n",
        "VAL_DIR = \"/content/new_data/test/\"\n",
        "LEARNING_RATE = 2e-4\n",
        "BATCH_SIZE = 16\n",
        "NUM_WORKERS = 2\n",
        "IMAGE_SIZE = 256\n",
        "CHANNELS_IMG = 3\n",
        "L1_LAMBDA = 100\n",
        "LAMBDA_GP = 10\n",
        "NUM_EPOCHS = 50\n",
        "LOAD_MODEL = False\n",
        "SAVE_MODEL = False\n",
        "CHECKPOINT_DISC = \"disc.pth.tar\"\n",
        "CHECKPOINT_GEN = \"gen.pth.tar\""
      ],
      "execution_count": null,
      "outputs": []
    },
    {
      "cell_type": "markdown",
      "metadata": {
        "id": "jZoqIdfRhqiO"
      },
      "source": [
        "### Training"
      ]
    },
    {
      "cell_type": "code",
      "metadata": {
        "id": "50J_PLZjhpxO"
      },
      "source": [
        "torch.backends.cudnn.benchmark = True\n",
        "\n",
        "def train_fn(\n",
        "    disc, gen, loader, opt_disc, opt_gen, l1_loss, bce, g_scaler, d_scaler,\n",
        "):\n",
        "    loop = tqdm(loader, leave=True)\n",
        "\n",
        "    for idx, (x, y) in enumerate(loop):\n",
        "        x = x.to(DEVICE)\n",
        "        y = y.to(DEVICE)\n",
        "\n",
        "        # Train Discriminator\n",
        "        with torch.cuda.amp.autocast():\n",
        "            y_fake = gen(x)\n",
        "            D_real = disc(x, y)\n",
        "            D_real_loss = bce(D_real, torch.ones_like(D_real))\n",
        "            D_fake = disc(x, y_fake.detach())\n",
        "            D_fake_loss = bce(D_fake, torch.zeros_like(D_fake))\n",
        "            D_loss = (D_real_loss + D_fake_loss) / 2\n",
        "\n",
        "        disc.zero_grad()\n",
        "        d_scaler.scale(D_loss).backward()\n",
        "        d_scaler.step(opt_disc)\n",
        "        d_scaler.update()\n",
        "\n",
        "        # Train generator\n",
        "        with torch.cuda.amp.autocast():\n",
        "            D_fake = disc(x, y_fake)\n",
        "            G_fake_loss = bce(D_fake, torch.ones_like(D_fake))\n",
        "            L1 = l1_loss(y_fake, y) * L1_LAMBDA\n",
        "            G_loss = G_fake_loss + L1\n",
        "\n",
        "        opt_gen.zero_grad()\n",
        "        g_scaler.scale(G_loss).backward()\n",
        "        g_scaler.step(opt_gen)\n",
        "        g_scaler.update()\n",
        "\n",
        "        if idx % 10 == 0:\n",
        "            loop.set_postfix(\n",
        "                D_real=torch.sigmoid(D_real).mean().item(),\n",
        "                D_fake=torch.sigmoid(D_fake).mean().item(),\n",
        "            )\n",
        "\n",
        "\n",
        "def main():\n",
        "    disc = discriminator(in_channels=3).to(DEVICE)\n",
        "    gen = generator(in_channels=3, channels=64).to(DEVICE)\n",
        "    opt_disc = optim.Adam(disc.parameters(), lr=LEARNING_RATE, betas=(0.5, 0.999),)\n",
        "    opt_gen = optim.Adam(gen.parameters(), lr=LEARNING_RATE, betas=(0.5, 0.999))\n",
        "    BCE = nn.BCEWithLogitsLoss()\n",
        "    L1_LOSS = nn.L1Loss()\n",
        "\n",
        "    if LOAD_MODEL:\n",
        "        load_checkpoint(\n",
        "            CHECKPOINT_GEN, gen, opt_gen, LEARNING_RATE,\n",
        "        )\n",
        "        load_checkpoint(\n",
        "            CHECKPOINT_DISC, disc, opt_disc, LEARNING_RATE,\n",
        "        )\n",
        "\n",
        "    train_dataset = map_dataset(root_dir=TRAIN_DIR)\n",
        "    train_loader = DataLoader(\n",
        "        train_dataset,\n",
        "        batch_size=BATCH_SIZE,\n",
        "        shuffle=True,\n",
        "        num_workers=NUM_WORKERS,\n",
        "    )\n",
        "    g_scaler = torch.cuda.amp.GradScaler()\n",
        "    d_scaler = torch.cuda.amp.GradScaler()\n",
        "    val_dataset = map_dataset(root_dir=VAL_DIR)\n",
        "    val_loader = DataLoader(val_dataset, batch_size=1, shuffle=False)\n",
        "\n",
        "    for epoch in range(NUM_EPOCHS):\n",
        "        train_fn(\n",
        "            disc, gen, train_loader, opt_disc, opt_gen, L1_LOSS, BCE, g_scaler, d_scaler,\n",
        "        )\n",
        "\n",
        "        if SAVE_MODEL and epoch % 5 == 0:\n",
        "            save_checkpoint(gen, opt_gen, filename=CHECKPOINT_GEN)\n",
        "            save_checkpoint(disc, opt_disc, filename=CHECKPOINT_DISC)\n",
        "\n",
        "        save_some_examples(DEVICE, gen, val_loader, epoch, folder=\"/content/evaluation\")"
      ],
      "execution_count": null,
      "outputs": []
    },
    {
      "cell_type": "code",
      "metadata": {
        "colab": {
          "base_uri": "https://localhost:8080/"
        },
        "id": "kjrkClc2jg5F",
        "outputId": "83b39452-8d3d-40d1-ce64-64ddb1b29be2"
      },
      "source": [
        "main()"
      ],
      "execution_count": null,
      "outputs": [
        {
          "output_type": "stream",
          "text": [
            "100%|██████████| 17/17 [00:06<00:00,  2.59it/s, D_fake=0.447, D_real=0.567]\n",
            "100%|██████████| 17/17 [00:03<00:00,  5.05it/s, D_fake=0.319, D_real=0.64]\n",
            "100%|██████████| 17/17 [00:03<00:00,  5.05it/s, D_fake=0.167, D_real=0.848]\n",
            "100%|██████████| 17/17 [00:03<00:00,  5.08it/s, D_fake=0.148, D_real=0.855]\n",
            "100%|██████████| 17/17 [00:03<00:00,  5.07it/s, D_fake=0.0433, D_real=0.954]\n",
            "100%|██████████| 17/17 [00:03<00:00,  5.03it/s, D_fake=0.129, D_real=0.865]\n",
            "100%|██████████| 17/17 [00:03<00:00,  5.09it/s, D_fake=0.358, D_real=0.602]\n",
            "100%|██████████| 17/17 [00:03<00:00,  5.05it/s, D_fake=0.209, D_real=0.758]\n",
            "100%|██████████| 17/17 [00:03<00:00,  5.00it/s, D_fake=0.52, D_real=0.613]\n",
            "100%|██████████| 17/17 [00:03<00:00,  4.98it/s, D_fake=0.507, D_real=0.641]\n",
            "100%|██████████| 17/17 [00:03<00:00,  5.01it/s, D_fake=0.414, D_real=0.519]\n",
            "100%|██████████| 17/17 [00:03<00:00,  5.01it/s, D_fake=0.454, D_real=0.555]\n",
            "100%|██████████| 17/17 [00:03<00:00,  5.01it/s, D_fake=0.384, D_real=0.62]\n",
            "100%|██████████| 17/17 [00:03<00:00,  4.97it/s, D_fake=0.244, D_real=0.777]\n",
            "100%|██████████| 17/17 [00:03<00:00,  4.95it/s, D_fake=0.156, D_real=0.801]\n",
            "100%|██████████| 17/17 [00:03<00:00,  4.96it/s, D_fake=0.353, D_real=0.763]\n",
            "100%|██████████| 17/17 [00:03<00:00,  4.95it/s, D_fake=0.648, D_real=0.591]\n",
            "100%|██████████| 17/17 [00:03<00:00,  4.95it/s, D_fake=0.174, D_real=0.8]\n",
            "100%|██████████| 17/17 [00:03<00:00,  4.95it/s, D_fake=0.166, D_real=0.787]\n",
            "100%|██████████| 17/17 [00:03<00:00,  4.93it/s, D_fake=0.357, D_real=0.55]\n",
            "100%|██████████| 17/17 [00:03<00:00,  4.94it/s, D_fake=0.114, D_real=0.913]\n",
            "100%|██████████| 17/17 [00:03<00:00,  4.91it/s, D_fake=0.36, D_real=0.432]\n",
            "100%|██████████| 17/17 [00:03<00:00,  4.90it/s, D_fake=0.333, D_real=0.76]\n",
            "100%|██████████| 17/17 [00:03<00:00,  4.87it/s, D_fake=0.209, D_real=0.779]\n",
            "100%|██████████| 17/17 [00:03<00:00,  4.86it/s, D_fake=0.303, D_real=0.767]\n",
            "100%|██████████| 17/17 [00:03<00:00,  4.86it/s, D_fake=0.425, D_real=0.727]\n",
            "100%|██████████| 17/17 [00:03<00:00,  4.84it/s, D_fake=0.251, D_real=0.798]\n",
            "100%|██████████| 17/17 [00:03<00:00,  4.83it/s, D_fake=0.274, D_real=0.709]\n",
            "100%|██████████| 17/17 [00:03<00:00,  4.84it/s, D_fake=0.355, D_real=0.815]\n",
            "100%|██████████| 17/17 [00:03<00:00,  4.83it/s, D_fake=0.388, D_real=0.934]\n",
            "100%|██████████| 17/17 [00:03<00:00,  4.82it/s, D_fake=0.106, D_real=0.921]\n",
            "100%|██████████| 17/17 [00:03<00:00,  4.82it/s, D_fake=0.308, D_real=0.864]\n",
            "100%|██████████| 17/17 [00:03<00:00,  4.80it/s, D_fake=0.308, D_real=0.621]\n",
            "100%|██████████| 17/17 [00:03<00:00,  4.80it/s, D_fake=0.323, D_real=0.351]\n",
            "100%|██████████| 17/17 [00:03<00:00,  4.83it/s, D_fake=0.2, D_real=0.817]\n",
            "100%|██████████| 17/17 [00:03<00:00,  4.81it/s, D_fake=0.324, D_real=0.859]\n",
            "100%|██████████| 17/17 [00:03<00:00,  4.78it/s, D_fake=0.344, D_real=0.797]\n",
            "100%|██████████| 17/17 [00:03<00:00,  4.80it/s, D_fake=0.301, D_real=0.625]\n",
            "100%|██████████| 17/17 [00:03<00:00,  4.76it/s, D_fake=0.348, D_real=0.113]\n",
            "100%|██████████| 17/17 [00:03<00:00,  4.74it/s, D_fake=0.199, D_real=0.795]\n",
            "100%|██████████| 17/17 [00:03<00:00,  4.78it/s, D_fake=0.548, D_real=0.352]\n",
            "100%|██████████| 17/17 [00:03<00:00,  4.77it/s, D_fake=0.305, D_real=0.709]\n",
            "100%|██████████| 17/17 [00:03<00:00,  4.72it/s, D_fake=0.264, D_real=0.7]\n",
            "100%|██████████| 17/17 [00:03<00:00,  4.73it/s, D_fake=0.226, D_real=0.789]\n",
            "100%|██████████| 17/17 [00:03<00:00,  4.75it/s, D_fake=0.203, D_real=0.796]\n",
            "100%|██████████| 17/17 [00:03<00:00,  4.76it/s, D_fake=0.475, D_real=0.794]\n",
            "100%|██████████| 17/17 [00:03<00:00,  4.75it/s, D_fake=0.388, D_real=0.527]\n",
            "100%|██████████| 17/17 [00:03<00:00,  4.67it/s, D_fake=0.327, D_real=0.902]\n",
            "100%|██████████| 17/17 [00:03<00:00,  4.75it/s, D_fake=0.547, D_real=0.543]\n",
            "100%|██████████| 17/17 [00:03<00:00,  4.71it/s, D_fake=0.417, D_real=0.74]\n"
          ],
          "name": "stderr"
        }
      ]
    }
  ]
}