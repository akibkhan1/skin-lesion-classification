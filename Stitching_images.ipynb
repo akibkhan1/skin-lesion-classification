{
  "nbformat": 4,
  "nbformat_minor": 0,
  "metadata": {
    "colab": {
      "name": "Stitching_images.ipynb",
      "provenance": [],
      "mount_file_id": "1T649gWEIH2gIckotnaoKsA81M4MfGLwm",
      "authorship_tag": "ABX9TyOovmm2wgPaaJLsDV+Y4ZGN",
      "include_colab_link": true
    },
    "kernelspec": {
      "name": "python3",
      "display_name": "Python 3"
    },
    "language_info": {
      "name": "python"
    }
  },
  "cells": [
    {
      "cell_type": "markdown",
      "metadata": {
        "id": "view-in-github",
        "colab_type": "text"
      },
      "source": [
        "<a href=\"https://colab.research.google.com/github/akibkhan1/skin-lesion-classification/blob/main/Stitching_images.ipynb\" target=\"_parent\"><img src=\"https://colab.research.google.com/assets/colab-badge.svg\" alt=\"Open In Colab\"/></a>"
      ]
    },
    {
      "cell_type": "code",
      "metadata": {
        "id": "aWeF_OvGYw-E"
      },
      "source": [
        "import cv2\n",
        "import os\n",
        "from google.colab.patches import cv2_imshow\n",
        "from PIL import Image\n",
        "import glob\n",
        "import shutil"
      ],
      "execution_count": null,
      "outputs": []
    },
    {
      "cell_type": "markdown",
      "metadata": {
        "id": "GuR2jz88ZDw9"
      },
      "source": [
        "## Downloading segmentation dataset"
      ]
    },
    {
      "cell_type": "code",
      "metadata": {
        "id": "7LijSIexY9Oa"
      },
      "source": [
        "%cd /content\n",
        "!gdown --id 19BErvkVNU02jPVlbPtjlfNkm_dg7Y7-t\n",
        "!unzip noaugmentation_512_384_dunet.zip"
      ],
      "execution_count": null,
      "outputs": []
    },
    {
      "cell_type": "markdown",
      "metadata": {
        "id": "oik1ZeybZSoU"
      },
      "source": [
        "## Stitching the images"
      ]
    },
    {
      "cell_type": "code",
      "metadata": {
        "colab": {
          "base_uri": "https://localhost:8080/"
        },
        "id": "fMTFI4QjZVI_",
        "outputId": "dc71fcbf-cebf-40db-869c-3dbef5d24e60"
      },
      "source": [
        "main_folder = '/content/new_data/train'\n",
        "folders = os.listdir(main_folder)\n",
        "folders"
      ],
      "execution_count": null,
      "outputs": [
        {
          "output_type": "execute_result",
          "data": {
            "text/plain": [
              "['mask', 'image']"
            ]
          },
          "metadata": {},
          "execution_count": 3
        }
      ]
    },
    {
      "cell_type": "markdown",
      "metadata": {
        "id": "uZjIe456_bw4"
      },
      "source": [
        "## For training images"
      ]
    },
    {
      "cell_type": "code",
      "metadata": {
        "id": "OEtwo0FM6s0e"
      },
      "source": [
        "def sort_function(filename):\n",
        "    filename = filename.split('_')[2]\n",
        "    return int(filename)\n",
        "\n",
        "image_directory = '/content/new_data/train/image/*'\n",
        "mask_directory = '/content/new_data/train/mask/*'\n",
        "\n",
        "image_files = sorted(glob.glob(image_directory), key=sort_function)\n",
        "mask_files =  sorted(glob.glob(mask_directory), key=sort_function)"
      ],
      "execution_count": null,
      "outputs": []
    },
    {
      "cell_type": "code",
      "metadata": {
        "id": "1ZPEFMX-tEwI"
      },
      "source": [
        "##creating new train,test, and valid folder\n",
        "\n",
        "parent_dir = '/content/'\n",
        "directory = 'data'\n",
        "path = os.path.join(parent_dir, directory)\n",
        "os.mkdir(path)\n",
        "parent_dir = '/content/data/'\n",
        "directory = 'train'\n",
        "path = os.path.join(parent_dir, directory)\n",
        "os.mkdir(path)\n",
        "\n",
        "\n",
        "parent_dir = '/content/data/'\n",
        "directory = 'test'\n",
        "path = os.path.join(parent_dir, directory)\n",
        "os.mkdir(path)\n",
        "\n",
        "parent_dir = '/content/data/'\n",
        "directory = 'valid'\n",
        "path = os.path.join(parent_dir, directory)\n",
        "os.mkdir(path)"
      ],
      "execution_count": null,
      "outputs": []
    },
    {
      "cell_type": "code",
      "metadata": {
        "id": "TLlg_hqqmuNi"
      },
      "source": [
        "for i in range(len(image_files)):\n",
        "  curr_mask = Image.open(mask_files[i])\n",
        "  curr_img = Image.open(image_files[i])\n",
        "  couple_image = Image.new('RGB', (curr_img.width + curr_img.width, curr_img.height))\n",
        "  couple_image.paste(curr_mask, (0, 0))\n",
        "  couple_image.paste(curr_img, (curr_img.width, 0))\n",
        "  couple_image.save(image_files[i])\n"
      ],
      "execution_count": null,
      "outputs": []
    },
    {
      "cell_type": "code",
      "metadata": {
        "id": "RvbuwOWlw55z",
        "colab": {
          "base_uri": "https://localhost:8080/",
          "height": 35
        },
        "outputId": "099a8d57-39a0-41d5-9b7b-91f74c3b1411"
      },
      "source": [
        "shutil.move(\"/content/new_data/train/image/\", \"/content/data/train/\")"
      ],
      "execution_count": null,
      "outputs": [
        {
          "output_type": "execute_result",
          "data": {
            "application/vnd.google.colaboratory.intrinsic+json": {
              "type": "string"
            },
            "text/plain": [
              "'/content/data/train/image'"
            ]
          },
          "metadata": {},
          "execution_count": 30
        }
      ]
    },
    {
      "cell_type": "markdown",
      "metadata": {
        "id": "y8Bzfm1s_e1U"
      },
      "source": [
        "## For validation images"
      ]
    },
    {
      "cell_type": "code",
      "metadata": {
        "id": "gGw66Alj72Zi"
      },
      "source": [
        "image_directory = '/content/new_data/valid/image/*'\n",
        "mask_directory = '/content/new_data/valid/mask/*'\n",
        "\n",
        "image_files = sorted(glob.glob(image_directory), key=sort_function)\n",
        "mask_files =  sorted(glob.glob(mask_directory), key=sort_function)"
      ],
      "execution_count": null,
      "outputs": []
    },
    {
      "cell_type": "code",
      "metadata": {
        "id": "hDvsiNem_qqx"
      },
      "source": [
        "for i in range(len(image_files)):\n",
        "  curr_mask = Image.open(mask_files[i])\n",
        "  curr_img = Image.open(image_files[i])\n",
        "  couple_image = Image.new('RGB', (curr_img.width + curr_img.width, curr_img.height))\n",
        "  couple_image.paste(curr_mask, (0, 0))\n",
        "  couple_image.paste(curr_img, (curr_img.width, 0))\n",
        "  couple_image.save(image_files[i])"
      ],
      "execution_count": null,
      "outputs": []
    },
    {
      "cell_type": "code",
      "metadata": {
        "colab": {
          "base_uri": "https://localhost:8080/",
          "height": 35
        },
        "id": "AM39dUIU_wzM",
        "outputId": "6ab825ca-2d22-48c8-a47d-c73f5ebffae6"
      },
      "source": [
        "shutil.move(\"/content/new_data/valid/image/\", \"/content/data/valid/\")"
      ],
      "execution_count": null,
      "outputs": [
        {
          "output_type": "execute_result",
          "data": {
            "application/vnd.google.colaboratory.intrinsic+json": {
              "type": "string"
            },
            "text/plain": [
              "'/content/data/valid/image'"
            ]
          },
          "metadata": {},
          "execution_count": 34
        }
      ]
    },
    {
      "cell_type": "markdown",
      "metadata": {
        "id": "TBVU0u9N_-9u"
      },
      "source": [
        "## For testing images"
      ]
    },
    {
      "cell_type": "code",
      "metadata": {
        "id": "jWIfabrcAAst"
      },
      "source": [
        "image_directory = '/content/new_data/test/image/*'\n",
        "mask_directory = '/content/new_data/test/mask/*'\n",
        "\n",
        "image_files = sorted(glob.glob(image_directory), key=sort_function)\n",
        "mask_files =  sorted(glob.glob(mask_directory), key=sort_function)"
      ],
      "execution_count": null,
      "outputs": []
    },
    {
      "cell_type": "code",
      "metadata": {
        "id": "e_Sgu-FsAFVD"
      },
      "source": [
        "for i in range(len(image_files)):\n",
        "  curr_mask = Image.open(mask_files[i])\n",
        "  curr_img = Image.open(image_files[i])\n",
        "  couple_image = Image.new('RGB', (curr_img.width + curr_img.width, curr_img.height))\n",
        "  couple_image.paste(curr_mask, (0, 0))\n",
        "  couple_image.paste(curr_img, (curr_img.width, 0))\n",
        "  couple_image.save(image_files[i])"
      ],
      "execution_count": null,
      "outputs": []
    },
    {
      "cell_type": "code",
      "metadata": {
        "colab": {
          "base_uri": "https://localhost:8080/",
          "height": 35
        },
        "id": "kFY2g3IFAIkc",
        "outputId": "80e01f20-0540-493f-8ad6-12bc7f9642a2"
      },
      "source": [
        "shutil.move(\"/content/new_data/test/image/\", \"/content/data/test/\")"
      ],
      "execution_count": null,
      "outputs": [
        {
          "output_type": "execute_result",
          "data": {
            "application/vnd.google.colaboratory.intrinsic+json": {
              "type": "string"
            },
            "text/plain": [
              "'/content/data/test/image'"
            ]
          },
          "metadata": {},
          "execution_count": 38
        }
      ]
    },
    {
      "cell_type": "code",
      "metadata": {
        "colab": {
          "base_uri": "https://localhost:8080/"
        },
        "id": "sjjhl-5fBRaO",
        "outputId": "b439c1be-5196-4ac2-9266-e1f1de29fbea"
      },
      "source": [
        "!pwd"
      ],
      "execution_count": null,
      "outputs": [
        {
          "output_type": "stream",
          "name": "stdout",
          "text": [
            "/content\n"
          ]
        }
      ]
    },
    {
      "cell_type": "code",
      "metadata": {
        "id": "2tTv69PJAJMw"
      },
      "source": [
        "!zip -r skin-lesion-stitched.zip data"
      ],
      "execution_count": null,
      "outputs": []
    },
    {
      "cell_type": "code",
      "metadata": {
        "id": "9v0xcf-RBVJS"
      },
      "source": [
        "!cp skin-lesion-stitched.zip '/content/drive/MyDrive/Colab_Notebooks/Thesis/'"
      ],
      "execution_count": null,
      "outputs": []
    }
  ]
}