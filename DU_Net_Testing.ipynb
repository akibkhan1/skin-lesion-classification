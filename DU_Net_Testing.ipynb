{
  "nbformat": 4,
  "nbformat_minor": 0,
  "metadata": {
    "colab": {
      "name": "DU_Net_Testing.ipynb",
      "provenance": [],
      "collapsed_sections": [],
      "authorship_tag": "ABX9TyOziFnpeLs4Mavmkiifvp7D",
      "include_colab_link": true
    },
    "kernelspec": {
      "name": "python3",
      "display_name": "Python 3"
    },
    "language_info": {
      "name": "python"
    },
    "accelerator": "GPU"
  },
  "cells": [
    {
      "cell_type": "markdown",
      "metadata": {
        "id": "view-in-github",
        "colab_type": "text"
      },
      "source": [
        "<a href=\"https://colab.research.google.com/github/akibkhan1/skin-lesion-classification/blob/main/DU_Net_Testing.ipynb\" target=\"_parent\"><img src=\"https://colab.research.google.com/assets/colab-badge.svg\" alt=\"Open In Colab\"/></a>"
      ]
    },
    {
      "cell_type": "markdown",
      "metadata": {
        "id": "uN9inPR00ago"
      },
      "source": [
        "## Necessary Imports"
      ]
    },
    {
      "cell_type": "code",
      "metadata": {
        "id": "JESXTaBw4Xan"
      },
      "source": [
        "import os\n",
        "import cv2\n",
        "import zipfile\n",
        "from glob import glob\n",
        "import random\n",
        "from tqdm import tqdm\n",
        "import tensorflow as tf\n",
        "import pandas as pd\n",
        "import numpy as np\n",
        "from tensorflow.keras.optimizers import RMSprop\n",
        "from tensorflow.keras.preprocessing.image import ImageDataGenerator\n",
        "from tensorflow.keras import layers\n",
        "from tensorflow.keras import Model\n",
        "from shutil import copyfile, move\n",
        "from IPython.display import clear_output"
      ],
      "execution_count": null,
      "outputs": []
    },
    {
      "cell_type": "markdown",
      "metadata": {
        "id": "NSR627ci0dWW"
      },
      "source": [
        "## Cloning Author Github Repo"
      ]
    },
    {
      "cell_type": "code",
      "metadata": {
        "colab": {
          "base_uri": "https://localhost:8080/"
        },
        "id": "8MEwTplj4-0I",
        "outputId": "b12a531b-090d-4846-bdec-8d16711607d5"
      },
      "source": [
        "!git clone 'https://github.com/DebeshJha/2020-CBMS-DoubleU-Net'"
      ],
      "execution_count": null,
      "outputs": [
        {
          "output_type": "stream",
          "text": [
            "Cloning into '2020-CBMS-DoubleU-Net'...\n",
            "remote: Enumerating objects: 93, done.\u001b[K\n",
            "remote: Counting objects: 100% (93/93), done.\u001b[K\n",
            "remote: Compressing objects: 100% (87/87), done.\u001b[K\n",
            "remote: Total 93 (delta 42), reused 2 (delta 0), pack-reused 0\u001b[K\n",
            "Unpacking objects: 100% (93/93), done.\n"
          ],
          "name": "stdout"
        }
      ]
    },
    {
      "cell_type": "markdown",
      "metadata": {
        "id": "ZaIef6ePyFYB"
      },
      "source": [
        "## Our Weights"
      ]
    },
    {
      "cell_type": "code",
      "metadata": {
        "colab": {
          "base_uri": "https://localhost:8080/"
        },
        "id": "cYAVRvSy5Aw3",
        "outputId": "c0847193-4c7e-4197-d462-1f06b3e110bb"
      },
      "source": [
        "!gdown --id 1-EITJRQFgWQBRTa1VgcEtxsikftwkCoR"
      ],
      "execution_count": null,
      "outputs": [
        {
          "output_type": "stream",
          "text": [
            "Downloading...\n",
            "From: https://drive.google.com/uc?id=1-EITJRQFgWQBRTa1VgcEtxsikftwkCoR\n",
            "To: /content/2020-CBMS-DoubleU-Net/model.05-0.42.h5\n",
            "353MB [00:06, 54.8MB/s]\n"
          ],
          "name": "stdout"
        }
      ]
    },
    {
      "cell_type": "code",
      "metadata": {
        "colab": {
          "base_uri": "https://localhost:8080/"
        },
        "id": "24HZTfLxCD16",
        "outputId": "a2a90031-68d3-4df1-fe8f-6b839bf46517"
      },
      "source": [
        "%cd /content/2020-CBMS-DoubleU-Net"
      ],
      "execution_count": null,
      "outputs": [
        {
          "output_type": "stream",
          "text": [
            "/content/2020-CBMS-DoubleU-Net\n"
          ],
          "name": "stdout"
        }
      ]
    },
    {
      "cell_type": "markdown",
      "metadata": {
        "id": "V4jVyECexWcY"
      },
      "source": [
        "## Downloading some necesaary scripts(before running the next cell delete the existing train.py, predict.py, utils.py files)"
      ]
    },
    {
      "cell_type": "markdown",
      "metadata": {
        "id": "Ip46dWMMxq53"
      },
      "source": [
        "After downloading and unzipping we will get modified \n",
        "train.py, predict.py, utils.py"
      ]
    },
    {
      "cell_type": "code",
      "metadata": {
        "id": "HHJNUOOuxcan"
      },
      "source": [
        "%cd /content/2020-CBMS-DoubleU-Net\n",
        "!gdown --id 13fk3N0ZQ_4cujmcVeP8VY8xrBywrP-iH\n",
        "!unzip necesaary_scripts.zip"
      ],
      "execution_count": null,
      "outputs": []
    },
    {
      "cell_type": "markdown",
      "metadata": {
        "id": "-rE49HTQyK4m"
      },
      "source": [
        "## Downloading Data"
      ]
    },
    {
      "cell_type": "code",
      "metadata": {
        "colab": {
          "base_uri": "https://localhost:8080/"
        },
        "id": "tIjdN-GPCaHt",
        "outputId": "2c734621-4acf-4c8f-b3cf-71f995d1867e"
      },
      "source": [
        "!gdown --id 19BErvkVNU02jPVlbPtjlfNkm_dg7Y7-t"
      ],
      "execution_count": null,
      "outputs": [
        {
          "output_type": "stream",
          "text": [
            "Downloading...\n",
            "From: https://drive.google.com/uc?id=19BErvkVNU02jPVlbPtjlfNkm_dg7Y7-t\n",
            "To: /content/2020-CBMS-DoubleU-Net/noaugmentation_512_384_dunet.zip\n",
            "126MB [00:02, 43.7MB/s]\n"
          ],
          "name": "stdout"
        }
      ]
    },
    {
      "cell_type": "code",
      "metadata": {
        "id": "NAo_wn9_Cn0E"
      },
      "source": [
        "!unzip /content/2020-CBMS-DoubleU-Net/noaugmentation_512_384_dunet.zip"
      ],
      "execution_count": null,
      "outputs": []
    },
    {
      "cell_type": "markdown",
      "metadata": {
        "id": "HmxdFqkfydym"
      },
      "source": [
        "## Downloading Weights provided by Author"
      ]
    },
    {
      "cell_type": "code",
      "metadata": {
        "colab": {
          "base_uri": "https://localhost:8080/"
        },
        "id": "JbfCzJrCotuj",
        "outputId": "7d137441-7057-4ecb-9e56-c730f4bf9b46"
      },
      "source": [
        "!gdown --id 1jjMYoMkbb866-1qh3bD546TVp-ZjKs9w"
      ],
      "execution_count": null,
      "outputs": [
        {
          "output_type": "stream",
          "text": [
            "Downloading...\n",
            "From: https://drive.google.com/uc?id=1jjMYoMkbb866-1qh3bD546TVp-ZjKs9w\n",
            "To: /content/2020-CBMS-DoubleU-Net/DoubleUNet.zip\n",
            "322MB [00:08, 38.2MB/s]\n"
          ],
          "name": "stdout"
        }
      ]
    },
    {
      "cell_type": "code",
      "metadata": {
        "colab": {
          "base_uri": "https://localhost:8080/"
        },
        "id": "DzwRlbX0kPC8",
        "outputId": "ba693339-0c7a-4381-d8a1-c3274a8cd27a"
      },
      "source": [
        "!unzip DoubleUNet.zip"
      ],
      "execution_count": null,
      "outputs": [
        {
          "output_type": "stream",
          "text": [
            "Archive:  DoubleUNet.zip\n",
            "   creating: DoubleUNet/\n",
            "   creating: DoubleUNet/files/\n",
            "  inflating: DoubleUNet/files/model.h5  \n",
            "   creating: DoubleUNet/files/.ipynb_checkpoints/\n",
            "  inflating: DoubleUNet/files/.ipynb_checkpoints/data-checkpoint.csv  \n"
          ],
          "name": "stdout"
        }
      ]
    },
    {
      "cell_type": "markdown",
      "metadata": {
        "id": "I7qG2xaJyQC2"
      },
      "source": [
        "## Run Prediction"
      ]
    },
    {
      "cell_type": "code",
      "metadata": {
        "colab": {
          "base_uri": "https://localhost:8080/"
        },
        "id": "7NFxNg3_C_te",
        "outputId": "cd9e638b-fc2b-4e4b-c619-c1fb84fe963d"
      },
      "source": [
        "!python predict.py"
      ],
      "execution_count": null,
      "outputs": [
        {
          "output_type": "stream",
          "text": [
            "2021-07-27 18:25:22.034572: I tensorflow/stream_executor/platform/default/dso_loader.cc:53] Successfully opened dynamic library libcudart.so.11.0\n",
            "2021-07-27 18:25:23.592145: I tensorflow/stream_executor/platform/default/dso_loader.cc:53] Successfully opened dynamic library libcuda.so.1\n",
            "2021-07-27 18:25:23.598278: I tensorflow/stream_executor/cuda/cuda_gpu_executor.cc:937] successful NUMA node read from SysFS had negative value (-1), but there must be at least one NUMA node, so returning NUMA node zero\n",
            "2021-07-27 18:25:23.598910: I tensorflow/core/common_runtime/gpu/gpu_device.cc:1733] Found device 0 with properties: \n",
            "pciBusID: 0000:00:04.0 name: Tesla T4 computeCapability: 7.5\n",
            "coreClock: 1.59GHz coreCount: 40 deviceMemorySize: 14.75GiB deviceMemoryBandwidth: 298.08GiB/s\n",
            "2021-07-27 18:25:23.598958: I tensorflow/stream_executor/platform/default/dso_loader.cc:53] Successfully opened dynamic library libcudart.so.11.0\n",
            "2021-07-27 18:25:23.601506: I tensorflow/stream_executor/platform/default/dso_loader.cc:53] Successfully opened dynamic library libcublas.so.11\n",
            "2021-07-27 18:25:23.601595: I tensorflow/stream_executor/platform/default/dso_loader.cc:53] Successfully opened dynamic library libcublasLt.so.11\n",
            "2021-07-27 18:25:23.603235: I tensorflow/stream_executor/platform/default/dso_loader.cc:53] Successfully opened dynamic library libcufft.so.10\n",
            "2021-07-27 18:25:23.603611: I tensorflow/stream_executor/platform/default/dso_loader.cc:53] Successfully opened dynamic library libcurand.so.10\n",
            "2021-07-27 18:25:23.605517: I tensorflow/stream_executor/platform/default/dso_loader.cc:53] Successfully opened dynamic library libcusolver.so.10\n",
            "2021-07-27 18:25:23.606172: I tensorflow/stream_executor/platform/default/dso_loader.cc:53] Successfully opened dynamic library libcusparse.so.11\n",
            "2021-07-27 18:25:23.606401: I tensorflow/stream_executor/platform/default/dso_loader.cc:53] Successfully opened dynamic library libcudnn.so.8\n",
            "2021-07-27 18:25:23.606509: I tensorflow/stream_executor/cuda/cuda_gpu_executor.cc:937] successful NUMA node read from SysFS had negative value (-1), but there must be at least one NUMA node, so returning NUMA node zero\n",
            "2021-07-27 18:25:23.607142: I tensorflow/stream_executor/cuda/cuda_gpu_executor.cc:937] successful NUMA node read from SysFS had negative value (-1), but there must be at least one NUMA node, so returning NUMA node zero\n",
            "2021-07-27 18:25:23.607707: I tensorflow/core/common_runtime/gpu/gpu_device.cc:1871] Adding visible gpu devices: 0\n",
            "2021-07-27 18:25:23.608060: I tensorflow/core/platform/cpu_feature_guard.cc:142] This TensorFlow binary is optimized with oneAPI Deep Neural Network Library (oneDNN) to use the following CPU instructions in performance-critical operations:  AVX512F\n",
            "To enable them in other operations, rebuild TensorFlow with the appropriate compiler flags.\n",
            "2021-07-27 18:25:23.608296: I tensorflow/stream_executor/cuda/cuda_gpu_executor.cc:937] successful NUMA node read from SysFS had negative value (-1), but there must be at least one NUMA node, so returning NUMA node zero\n",
            "2021-07-27 18:25:23.608888: I tensorflow/core/common_runtime/gpu/gpu_device.cc:1733] Found device 0 with properties: \n",
            "pciBusID: 0000:00:04.0 name: Tesla T4 computeCapability: 7.5\n",
            "coreClock: 1.59GHz coreCount: 40 deviceMemorySize: 14.75GiB deviceMemoryBandwidth: 298.08GiB/s\n",
            "2021-07-27 18:25:23.608975: I tensorflow/stream_executor/cuda/cuda_gpu_executor.cc:937] successful NUMA node read from SysFS had negative value (-1), but there must be at least one NUMA node, so returning NUMA node zero\n",
            "2021-07-27 18:25:23.609574: I tensorflow/stream_executor/cuda/cuda_gpu_executor.cc:937] successful NUMA node read from SysFS had negative value (-1), but there must be at least one NUMA node, so returning NUMA node zero\n",
            "2021-07-27 18:25:23.610111: I tensorflow/core/common_runtime/gpu/gpu_device.cc:1871] Adding visible gpu devices: 0\n",
            "2021-07-27 18:25:23.610166: I tensorflow/stream_executor/platform/default/dso_loader.cc:53] Successfully opened dynamic library libcudart.so.11.0\n",
            "2021-07-27 18:25:24.107009: I tensorflow/core/common_runtime/gpu/gpu_device.cc:1258] Device interconnect StreamExecutor with strength 1 edge matrix:\n",
            "2021-07-27 18:25:24.107063: I tensorflow/core/common_runtime/gpu/gpu_device.cc:1264]      0 \n",
            "2021-07-27 18:25:24.107081: I tensorflow/core/common_runtime/gpu/gpu_device.cc:1277] 0:   N \n",
            "2021-07-27 18:25:24.107257: I tensorflow/stream_executor/cuda/cuda_gpu_executor.cc:937] successful NUMA node read from SysFS had negative value (-1), but there must be at least one NUMA node, so returning NUMA node zero\n",
            "2021-07-27 18:25:24.107875: I tensorflow/stream_executor/cuda/cuda_gpu_executor.cc:937] successful NUMA node read from SysFS had negative value (-1), but there must be at least one NUMA node, so returning NUMA node zero\n",
            "2021-07-27 18:25:24.108407: I tensorflow/stream_executor/cuda/cuda_gpu_executor.cc:937] successful NUMA node read from SysFS had negative value (-1), but there must be at least one NUMA node, so returning NUMA node zero\n",
            "2021-07-27 18:25:24.108897: W tensorflow/core/common_runtime/gpu/gpu_bfc_allocator.cc:39] Overriding allow_growth setting because the TF_FORCE_GPU_ALLOW_GROWTH environment variable is set. Original config value was 0.\n",
            "2021-07-27 18:25:24.108943: I tensorflow/core/common_runtime/gpu/gpu_device.cc:1418] Created TensorFlow device (/job:localhost/replica:0/task:0/device:GPU:0 with 12596 MB memory) -> physical GPU (device: 0, name: Tesla T4, pci bus id: 0000:00:04.0, compute capability: 7.5)\n",
            "2021-07-27 18:25:26.590307: I tensorflow/compiler/mlir/mlir_graph_optimization_pass.cc:176] None of the MLIR Optimization Passes are enabled (registered 2)\n",
            "2021-07-27 18:25:26.590658: I tensorflow/core/platform/profile_utils/cpu_utils.cc:114] CPU Frequency: 2000134999 Hz\n",
            "2021-07-27 18:25:29.301902: I tensorflow/stream_executor/platform/default/dso_loader.cc:53] Successfully opened dynamic library libcudnn.so.8\n",
            "2021-07-27 18:25:29.757464: I tensorflow/stream_executor/cuda/cuda_dnn.cc:359] Loaded cuDNN version 8004\n",
            "2021-07-27 18:25:30.916725: I tensorflow/stream_executor/platform/default/dso_loader.cc:53] Successfully opened dynamic library libcublas.so.11\n",
            "2021-07-27 18:25:31.392456: I tensorflow/stream_executor/platform/default/dso_loader.cc:53] Successfully opened dynamic library libcublasLt.so.11\n",
            "33/33 [==============================] - 36s 641ms/step - loss: 0.4770 - dice_coef: 0.5230 - iou: 0.3672 - recall: 0.9833 - precision: 0.4026\n",
            "100% 259/259 [01:17<00:00,  3.34it/s]\n"
          ],
          "name": "stdout"
        }
      ]
    },
    {
      "cell_type": "code",
      "metadata": {
        "id": "tzoS2EW_Je93"
      },
      "source": [
        "import os\n",
        "import numpy as np\n",
        "import cv2\n",
        "import tensorflow as tf\n",
        "from tensorflow.keras.callbacks import *\n",
        "from tensorflow.keras.optimizers import Adam, Nadam\n",
        "from tensorflow.keras.metrics import *\n",
        "from glob import glob\n",
        "from sklearn.model_selection import train_test_split\n",
        "from model import build_model\n",
        "from utils import *\n",
        "from metrics import *"
      ],
      "execution_count": null,
      "outputs": []
    },
    {
      "cell_type": "code",
      "metadata": {
        "id": "LKCP0JWoJjHc"
      },
      "source": [
        "metrics = [\n",
        "    dice_coef,\n",
        "    iou,\n",
        "    Recall(),\n",
        "    Precision()\n",
        "]"
      ],
      "execution_count": null,
      "outputs": []
    },
    {
      "cell_type": "code",
      "metadata": {
        "id": "OCRSaQFGxGjb"
      },
      "source": [
        "new_model = tf.keras.models.load_model('/content/2020-CBMS-DoubleU-Net/model.05-0.42.h5', custom_objects={'dice_loss':dice_loss,'iou':iou,'dice_coef':dice_coef})"
      ],
      "execution_count": null,
      "outputs": []
    },
    {
      "cell_type": "code",
      "metadata": {
        "id": "iQpG2v8tIEiV"
      },
      "source": [
        ""
      ],
      "execution_count": null,
      "outputs": []
    }
  ]
}