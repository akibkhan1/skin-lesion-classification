{
  "nbformat": 4,
  "nbformat_minor": 0,
  "metadata": {
    "colab": {
      "name": "color_constancy_isic.ipynb",
      "provenance": [],
      "mount_file_id": "19FMBOHqEbE-eiu-na7_G5u8RKs3JZ3ux",
      "authorship_tag": "ABX9TyMIkYOfwF13khl7vO1uVwFu",
      "include_colab_link": true
    },
    "kernelspec": {
      "name": "python3",
      "display_name": "Python 3"
    },
    "language_info": {
      "name": "python"
    }
  },
  "cells": [
    {
      "cell_type": "markdown",
      "metadata": {
        "id": "view-in-github",
        "colab_type": "text"
      },
      "source": [
        "<a href=\"https://colab.research.google.com/github/akibkhan1/skin-lesion-classification/blob/main/color_constancy_isic.ipynb\" target=\"_parent\"><img src=\"https://colab.research.google.com/assets/colab-badge.svg\" alt=\"Open In Colab\"/></a>"
      ]
    },
    {
      "cell_type": "code",
      "metadata": {
        "id": "EF-sBRUAuhU1"
      },
      "source": [
        "import cv2\n",
        "from google.colab.patches import cv2_imshow\n",
        "import numpy as np\n",
        "from glob import glob\n",
        "from tqdm import tqdm\n",
        "import matplotlib.pyplot as plt\n",
        "import os"
      ],
      "execution_count": 25,
      "outputs": []
    },
    {
      "cell_type": "code",
      "metadata": {
        "colab": {
          "base_uri": "https://localhost:8080/"
        },
        "id": "gFHN7zpLoPC-",
        "outputId": "e0b1d45c-e8db-45bc-aa6f-b09b4b978908"
      },
      "source": [
        "!gdown --id 10TNZNGbTaR2sZN7tL8riGZwBzJCWmWA6"
      ],
      "execution_count": 1,
      "outputs": [
        {
          "output_type": "stream",
          "text": [
            "Downloading...\n",
            "From: https://drive.google.com/uc?id=10TNZNGbTaR2sZN7tL8riGZwBzJCWmWA6\n",
            "To: /content/ISIC-split.zip\n",
            "2.77GB [00:39, 70.8MB/s]\n"
          ],
          "name": "stdout"
        }
      ]
    },
    {
      "cell_type": "code",
      "metadata": {
        "id": "b3d5o-xgoamF"
      },
      "source": [
        "!unzip ISIC-split.zip"
      ],
      "execution_count": null,
      "outputs": []
    },
    {
      "cell_type": "code",
      "metadata": {
        "id": "_aXybPk1rD8F"
      },
      "source": [
        "def shade_of_gray_cc(img, power=6, gamma=2.2):\n",
        "    \"\"\"\n",
        "    img (numpy array): the original image with format of (h, w, c)\n",
        "    power (int): the degree of norm, 6 is used in reference paper\n",
        "    gamma (float): the value of gamma correction, 2.2 is used in reference paper\n",
        "    \"\"\"\n",
        "    img_dtype = img.dtype\n",
        "\n",
        "    if gamma is not None:\n",
        "        img = img.astype('uint8')\n",
        "        look_up_table = np.ones((256,1), dtype='uint8') * 0\n",
        "        for i in range(256):\n",
        "            look_up_table[i][0] = 255 * pow(i/255, 1/gamma)\n",
        "        img = cv2.LUT(img, look_up_table)\n",
        "\n",
        "    img = img.astype('float32')\n",
        "    img_power = np.power(img, power)\n",
        "    rgb_vec = np.power(np.mean(img_power, (0,1)), 1/power)\n",
        "    rgb_norm = np.sqrt(np.sum(np.power(rgb_vec, 2.0)))\n",
        "    rgb_vec = rgb_vec/rgb_norm\n",
        "    rgb_vec = 1/(rgb_vec*np.sqrt(3))\n",
        "    img = np.multiply(img, rgb_vec)\n",
        "\n",
        "    # Andrew Anikin suggestion\n",
        "    img = np.clip(img, a_min=0, a_max=255)\n",
        "    \n",
        "    return img.astype(img_dtype)"
      ],
      "execution_count": 5,
      "outputs": []
    },
    {
      "cell_type": "code",
      "metadata": {
        "id": "PHhhgJxmo5JV"
      },
      "source": [
        "def apply_cc (img_paths, output_folder_path, resize=None):\n",
        "    \n",
        "    if not os.path.isdir(output_folder_path):\n",
        "        os.mkdir(output_folder_path)    \n",
        "\n",
        "    with tqdm(total=len(img_paths), ascii=True, ncols=100) as t:\n",
        "        \n",
        "        for img_path in img_paths:\n",
        "            img_name = img_path.split('/')[-1]\n",
        "            img_ = cv2.imread(img_path, cv2.IMREAD_COLOR)\n",
        "            if resize is not None:\n",
        "                img_ = cv2.resize(img_, resize, cv2.INTER_AREA)\n",
        "            np_img = shade_of_gray_cc (img_)            \n",
        "            cv2.imwrite(os.path.join(output_folder_path, img_name.split('.')[0] + '.jpg'), np_img)\n",
        "            t.update()"
      ],
      "execution_count": 6,
      "outputs": []
    },
    {
      "cell_type": "code",
      "metadata": {
        "id": "pCbe4gfJrYsL"
      },
      "source": [
        "image_classes = {\n",
        "  0: \"AKIEC\",\n",
        "  1: \"BCC\",\n",
        "  2: \"BKL\",\n",
        "  3: \"DF\",\n",
        "  4: \"MEL\",\n",
        "  5: \"NV\",\n",
        "  6: \"VASC\"\n",
        "}"
      ],
      "execution_count": 7,
      "outputs": []
    },
    {
      "cell_type": "code",
      "metadata": {
        "colab": {
          "base_uri": "https://localhost:8080/"
        },
        "id": "wWz6uyNAsAur",
        "outputId": "2048a01c-6468-48fe-d110-e23219638ca6"
      },
      "source": [
        "%cd /content/ISIC-full-split/training/\n"
      ],
      "execution_count": 8,
      "outputs": [
        {
          "output_type": "stream",
          "text": [
            "/content/ISIC-full-split/training\n"
          ],
          "name": "stdout"
        }
      ]
    },
    {
      "cell_type": "code",
      "metadata": {
        "id": "CdRMdTmRsKP7"
      },
      "source": [
        "all_paths = []\n",
        "for i in range(7):\n",
        "  glob_path = \"/content/ISIC-full-split/training/\" + str(image_classes[i]) + \"/\" +\"*\"+ \".jpg\"\n",
        "  img_paths = glob(glob_path)\n",
        "  all_paths.append(img_paths)"
      ],
      "execution_count": 20,
      "outputs": []
    },
    {
      "cell_type": "code",
      "metadata": {
        "colab": {
          "base_uri": "https://localhost:8080/"
        },
        "id": "RkxJMOMxxOZE",
        "outputId": "eecb1f5d-4b0f-47ee-b407-a0ef55bc2940"
      },
      "source": [
        "len(all_paths[0])"
      ],
      "execution_count": 23,
      "outputs": [
        {
          "output_type": "execute_result",
          "data": {
            "text/plain": [
              "261"
            ]
          },
          "metadata": {
            "tags": []
          },
          "execution_count": 23
        }
      ]
    },
    {
      "cell_type": "code",
      "metadata": {
        "colab": {
          "base_uri": "https://localhost:8080/"
        },
        "id": "Npv2dctH0Q6F",
        "outputId": "37190bb4-4929-46d2-dae2-646193006d77"
      },
      "source": [
        "%cd /content/"
      ],
      "execution_count": 29,
      "outputs": [
        {
          "output_type": "stream",
          "text": [
            "/content\n"
          ],
          "name": "stdout"
        }
      ]
    },
    {
      "cell_type": "code",
      "metadata": {
        "colab": {
          "base_uri": "https://localhost:8080/"
        },
        "id": "ufK35NXQu1b0",
        "outputId": "6d659526-85f5-4011-b2e9-604c46fccfb8"
      },
      "source": [
        "output_folder_path = \"ISIC-full-split-cc/training/\"\n",
        "\n",
        "for i in range(7):\n",
        "  output = output_folder_path + str(image_classes[i]) + \"/\"\n",
        "  apply_cc (all_paths[i], output, (400,400))"
      ],
      "execution_count": 30,
      "outputs": [
        {
          "output_type": "stream",
          "text": [
            "100%|#############################################################| 261/261 [00:07<00:00, 33.09it/s]\n",
            "100%|#############################################################| 411/411 [00:12<00:00, 33.06it/s]\n",
            "100%|#############################################################| 879/879 [00:26<00:00, 32.58it/s]\n",
            "100%|###############################################################| 92/92 [00:02<00:00, 33.32it/s]\n",
            "100%|#############################################################| 890/890 [00:27<00:00, 32.53it/s]\n",
            "100%|###########################################################| 5364/5364 [02:49<00:00, 31.57it/s]\n",
            "100%|#############################################################| 113/113 [00:03<00:00, 32.40it/s]\n"
          ],
          "name": "stderr"
        }
      ]
    },
    {
      "cell_type": "code",
      "metadata": {
        "id": "fgouPzB7zBqb"
      },
      "source": [
        "all_paths_validation = []\n",
        "for i in range(7):\n",
        "  glob_path = \"/content/ISIC-full-split/validation/\" + str(image_classes[i]) + \"/\" +\"*\"+ \".jpg\"\n",
        "  img_paths = glob(glob_path)\n",
        "  all_paths_validation.append(img_paths)"
      ],
      "execution_count": 31,
      "outputs": []
    },
    {
      "cell_type": "code",
      "metadata": {
        "colab": {
          "base_uri": "https://localhost:8080/"
        },
        "id": "TnJyD8_X1lBo",
        "outputId": "e72b9228-e5f7-4645-aa95-a443cc58d394"
      },
      "source": [
        "%cd /content/"
      ],
      "execution_count": 34,
      "outputs": [
        {
          "output_type": "stream",
          "text": [
            "/content\n"
          ],
          "name": "stdout"
        }
      ]
    },
    {
      "cell_type": "code",
      "metadata": {
        "colab": {
          "base_uri": "https://localhost:8080/"
        },
        "id": "EWub1UwT1rcS",
        "outputId": "e0e2c249-4476-43c4-f1e3-af29afa0837f"
      },
      "source": [
        "output_folder_path = \"ISIC-full-split-cc/validation/\"\n",
        "\n",
        "for i in range(7):\n",
        "  output = output_folder_path + str(image_classes[i]) + \"/\"\n",
        "  apply_cc (all_paths_validation[i], output, (400,400))"
      ],
      "execution_count": 36,
      "outputs": [
        {
          "output_type": "stream",
          "text": [
            "100%|###############################################################| 66/66 [00:02<00:00, 31.77it/s]\n",
            "100%|#############################################################| 103/103 [00:03<00:00, 32.28it/s]\n",
            "100%|#############################################################| 220/220 [00:06<00:00, 31.68it/s]\n",
            "100%|###############################################################| 23/23 [00:00<00:00, 30.93it/s]\n",
            "100%|#############################################################| 223/223 [00:07<00:00, 31.51it/s]\n",
            "100%|###########################################################| 1341/1341 [00:42<00:00, 31.37it/s]\n",
            "100%|###############################################################| 29/29 [00:00<00:00, 32.04it/s]\n"
          ],
          "name": "stderr"
        }
      ]
    },
    {
      "cell_type": "code",
      "metadata": {
        "id": "8QkClef02XqF"
      },
      "source": [
        "!zip -r ISIC-split-cc.zip ISIC-full-split-cc"
      ],
      "execution_count": null,
      "outputs": []
    },
    {
      "cell_type": "code",
      "metadata": {
        "id": "np04Bdqv3Kwr"
      },
      "source": [
        "!cp -r ISIC-split-cc.zip \"/content/drive/MyDrive/Colab_Notebooks/Thesis/\""
      ],
      "execution_count": 38,
      "outputs": []
    },
    {
      "cell_type": "code",
      "metadata": {
        "id": "h21N4UK13h_Y"
      },
      "source": [
        ""
      ],
      "execution_count": null,
      "outputs": []
    }
  ]
}